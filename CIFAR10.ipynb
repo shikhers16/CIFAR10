{
  "nbformat": 4,
  "nbformat_minor": 0,
  "metadata": {
    "colab": {
      "name": "CIFAR10.ipynb",
      "version": "0.3.2",
      "provenance": [],
      "collapsed_sections": [],
      "include_colab_link": true
    },
    "kernelspec": {
      "name": "python3",
      "display_name": "Python 3"
    },
    "accelerator": "GPU"
  },
  "cells": [
    {
      "cell_type": "markdown",
      "metadata": {
        "id": "view-in-github",
        "colab_type": "text"
      },
      "source": [
        "<a href=\"https://colab.research.google.com/github/shikhers16/CIFAR10/blob/master/CIFAR10.ipynb\" target=\"_parent\"><img src=\"https://colab.research.google.com/assets/colab-badge.svg\" alt=\"Open In Colab\"/></a>"
      ]
    },
    {
      "metadata": {
        "id": "DuvoJ798bRqG",
        "colab_type": "code",
        "colab": {}
      },
      "cell_type": "code",
      "source": [
        "import numpy as np\n",
        "import tensorflow as tf\n"
      ],
      "execution_count": 0,
      "outputs": []
    },
    {
      "metadata": {
        "id": "qU9z9KCKlw0F",
        "colab_type": "text"
      },
      "cell_type": "markdown",
      "source": [
        ""
      ]
    },
    {
      "metadata": {
        "id": "OuLflkLUkS7y",
        "colab_type": "code",
        "colab": {}
      },
      "cell_type": "code",
      "source": [
        "from tensorflow.python.keras.models import Sequential\n",
        "from tensorflow.python.keras.layers import Dense, MaxPooling2D, Conv2D, Flatten, Dropout\n",
        "from keras.datasets import cifar10"
      ],
      "execution_count": 0,
      "outputs": []
    },
    {
      "metadata": {
        "id": "ESi5mMaz0j8s",
        "colab_type": "code",
        "colab": {}
      },
      "cell_type": "code",
      "source": [
        "from keras.utils import to_categorical"
      ],
      "execution_count": 0,
      "outputs": []
    },
    {
      "metadata": {
        "id": "o3Ap9Xndawjg",
        "colab_type": "code",
        "colab": {}
      },
      "cell_type": "code",
      "source": [
        "import matplotlib.pylab as plt\n",
        "from matplotlib import cm\n",
        "%matplotlib inline\n",
        "\n",
        "# Plot the Neural network fitting history function Definition\n",
        "def history_plot(fit_history, n):\n",
        "    plt.figure(figsize=(18, 12))\n",
        "    \n",
        "    plt.subplot(211)\n",
        "    plt.plot(fit_history.history['loss'][n:], color='red', label = 'train')\n",
        "    plt.plot(fit_history.history['val_loss'][n:], color='#4876ff', label = 'valid')\n",
        "    plt.xlabel(\"Epochs\")\n",
        "    plt.ylabel(\"Loss\")\n",
        "    plt.legend()\n",
        "    plt.title('Loss Function');  \n",
        "    \n",
        "    plt.subplot(212)\n",
        "    plt.plot(fit_history.history['acc'][n:], color='red', label = 'train')\n",
        "    plt.plot(fit_history.history['val_acc'][n:], color='#4876ff', label = 'valid')\n",
        "    plt.xlabel(\"Epochs\")\n",
        "    plt.ylabel(\"Accuracy\")    \n",
        "    plt.legend()\n",
        "    plt.title('Accuracy');"
      ],
      "execution_count": 0,
      "outputs": []
    },
    {
      "metadata": {
        "id": "EvD_pitcl6wf",
        "colab_type": "code",
        "colab": {}
      },
      "cell_type": "code",
      "source": [
        "times = []\n",
        "histories = []"
      ],
      "execution_count": 0,
      "outputs": []
    },
    {
      "metadata": {
        "id": "rmfGfql4zfCg",
        "colab_type": "code",
        "colab": {
          "base_uri": "https://localhost:8080/",
          "height": 51
        },
        "outputId": "b6486e98-d061-4990-9d9e-2f45a99d7424"
      },
      "cell_type": "code",
      "source": [
        "#Loading Data\n",
        "(X_train, Y_train), (X_test, Y_test) = cifar10.load_data()"
      ],
      "execution_count": 6,
      "outputs": [
        {
          "output_type": "stream",
          "text": [
            "Downloading data from https://www.cs.toronto.edu/~kriz/cifar-10-python.tar.gz\n",
            "170500096/170498071 [==============================] - 100s 1us/step\n"
          ],
          "name": "stdout"
        }
      ]
    },
    {
      "metadata": {
        "id": "Y4eqkeTizypm",
        "colab_type": "code",
        "colab": {}
      },
      "cell_type": "code",
      "source": [
        "#Normalizing Data\n",
        "X_train = X_train.astype('float32')\n",
        "X_test = X_test.astype('float32')\n",
        "X_train = X_train/255\n",
        "X_test = X_test/255"
      ],
      "execution_count": 0,
      "outputs": []
    },
    {
      "metadata": {
        "id": "22AAyOOA0HNO",
        "colab_type": "code",
        "colab": {}
      },
      "cell_type": "code",
      "source": [
        "#Creating class matrices\n",
        "Y_train = to_categorical(Y_train, 10)\n",
        "Y_test = to_categorical(Y_test, 10)\n"
      ],
      "execution_count": 0,
      "outputs": []
    },
    {
      "metadata": {
        "id": "qkEmkw-c0Z1u",
        "colab_type": "code",
        "colab": {
          "base_uri": "https://localhost:8080/",
          "height": 612
        },
        "outputId": "4c3c8b8f-75eb-4363-8d64-01d9abb16ce1"
      },
      "cell_type": "code",
      "source": [
        "#creating model and adding layers\n",
        "model = Sequential()\n",
        "\n",
        "#Block 1\n",
        "model.add(Conv2D(32, (3, 3), input_shape = (32, 32, 3), padding = 'same', activation = 'relu'))\n",
        "model.add(Conv2D(64, (3, 3), activation = 'relu'))\n",
        "model.add(MaxPooling2D(pool_size = (2, 2)))\n",
        "model.add(Dropout(0.5))\n",
        "\n",
        "#Netwrok in Network\n",
        "model.add(Conv2D(128, (1, 1), activation = 'relu'))\n",
        "\n",
        "#Block 2\n",
        "model.add(Conv2D(128, (3, 3), padding = 'same', activation = 'relu'))\n",
        "model.add(Conv2D(256, (3, 3), activation = 'relu'))\n",
        "model.add(MaxPooling2D(pool_size = (2, 2)))\n",
        "model.add(Dropout(0.5))\n",
        "\n",
        "#Flatten\n",
        "model.add(Flatten())\n",
        "\n",
        "#Dense Layers\n",
        "model.add(Dense(256, activation = 'relu'))\n",
        "model.add(Dense(512, activation = 'relu'))\n",
        "model.add(Dropout(0.5))\n",
        "\n",
        "#Softmax Layer\n",
        "model.add(Dense(10, activation = 'softmax'))\n",
        "\n",
        "model.summary()"
      ],
      "execution_count": 33,
      "outputs": [
        {
          "output_type": "stream",
          "text": [
            "_________________________________________________________________\n",
            "Layer (type)                 Output Shape              Param #   \n",
            "=================================================================\n",
            "conv2d_18 (Conv2D)           (None, 32, 32, 32)        896       \n",
            "_________________________________________________________________\n",
            "conv2d_19 (Conv2D)           (None, 30, 30, 64)        18496     \n",
            "_________________________________________________________________\n",
            "max_pooling2d_8 (MaxPooling2 (None, 15, 15, 64)        0         \n",
            "_________________________________________________________________\n",
            "dropout_9 (Dropout)          (None, 15, 15, 64)        0         \n",
            "_________________________________________________________________\n",
            "conv2d_20 (Conv2D)           (None, 15, 15, 128)       8320      \n",
            "_________________________________________________________________\n",
            "conv2d_21 (Conv2D)           (None, 15, 15, 128)       147584    \n",
            "_________________________________________________________________\n",
            "conv2d_22 (Conv2D)           (None, 13, 13, 256)       295168    \n",
            "_________________________________________________________________\n",
            "max_pooling2d_9 (MaxPooling2 (None, 6, 6, 256)         0         \n",
            "_________________________________________________________________\n",
            "dropout_10 (Dropout)         (None, 6, 6, 256)         0         \n",
            "_________________________________________________________________\n",
            "flatten_4 (Flatten)          (None, 9216)              0         \n",
            "_________________________________________________________________\n",
            "dense_8 (Dense)              (None, 256)               2359552   \n",
            "_________________________________________________________________\n",
            "dense_9 (Dense)              (None, 512)               131584    \n",
            "_________________________________________________________________\n",
            "dropout_11 (Dropout)         (None, 512)               0         \n",
            "_________________________________________________________________\n",
            "dense_10 (Dense)             (None, 10)                5130      \n",
            "=================================================================\n",
            "Total params: 2,966,730\n",
            "Trainable params: 2,966,730\n",
            "Non-trainable params: 0\n",
            "_________________________________________________________________\n"
          ],
          "name": "stdout"
        }
      ]
    },
    {
      "metadata": {
        "id": "gxbcjz4b2GyH",
        "colab_type": "code",
        "colab": {}
      },
      "cell_type": "code",
      "source": [
        "#compile\n",
        "model.compile(optimizer = 'adam', loss = 'categorical_crossentropy', metrics = ['accuracy'])"
      ],
      "execution_count": 0,
      "outputs": []
    },
    {
      "metadata": {
        "id": "OYMRynk23-Yi",
        "colab_type": "code",
        "colab": {}
      },
      "cell_type": "code",
      "source": [
        "import time"
      ],
      "execution_count": 0,
      "outputs": []
    },
    {
      "metadata": {
        "id": "3bv9vUwW5ty5",
        "colab_type": "code",
        "colab": {}
      },
      "cell_type": "code",
      "source": [
        "from pathlib import Path"
      ],
      "execution_count": 0,
      "outputs": []
    },
    {
      "metadata": {
        "id": "Ot6frcp72kuu",
        "colab_type": "code",
        "colab": {
          "base_uri": "https://localhost:8080/",
          "height": 1071
        },
        "outputId": "f6c571a1-304d-4ad5-bade-d4179597f5f1"
      },
      "cell_type": "code",
      "source": [
        "#training\n",
        "t1_gpu = time.time()\n",
        "history = model.fit(X_train, Y_train, batch_size = 128, epochs = 30, validation_data = (X_test, Y_test), shuffle = True)\n",
        "t2_gpu = time.time()\n",
        "\n",
        "time_gpu = t2_gpu - t1_gpu\n",
        "print(time_gpu)\n",
        "\n",
        "\n"
      ],
      "execution_count": 37,
      "outputs": [
        {
          "output_type": "stream",
          "text": [
            "Train on 50000 samples, validate on 10000 samples\n",
            "Epoch 1/30\n",
            "50000/50000 [==============================] - 25s 497us/step - loss: 1.7017 - acc: 0.3653 - val_loss: 1.3973 - val_acc: 0.5135\n",
            "Epoch 2/30\n",
            "50000/50000 [==============================] - 23s 466us/step - loss: 1.2539 - acc: 0.5490 - val_loss: 1.1963 - val_acc: 0.5814\n",
            "Epoch 3/30\n",
            "50000/50000 [==============================] - 23s 468us/step - loss: 1.0668 - acc: 0.6209 - val_loss: 0.9470 - val_acc: 0.6742\n",
            "Epoch 4/30\n",
            "50000/50000 [==============================] - 23s 468us/step - loss: 0.9549 - acc: 0.6641 - val_loss: 0.9140 - val_acc: 0.6796\n",
            "Epoch 5/30\n",
            "50000/50000 [==============================] - 23s 467us/step - loss: 0.8662 - acc: 0.6982 - val_loss: 0.8239 - val_acc: 0.7123\n",
            "Epoch 6/30\n",
            "50000/50000 [==============================] - 23s 466us/step - loss: 0.7924 - acc: 0.7213 - val_loss: 0.8768 - val_acc: 0.6964\n",
            "Epoch 7/30\n",
            "50000/50000 [==============================] - 23s 467us/step - loss: 0.7299 - acc: 0.7447 - val_loss: 0.7715 - val_acc: 0.7347\n",
            "Epoch 8/30\n",
            "50000/50000 [==============================] - 23s 466us/step - loss: 0.6884 - acc: 0.7587 - val_loss: 0.7466 - val_acc: 0.7438\n",
            "Epoch 9/30\n",
            "50000/50000 [==============================] - 23s 465us/step - loss: 0.6461 - acc: 0.7716 - val_loss: 0.7225 - val_acc: 0.7531\n",
            "Epoch 10/30\n",
            "50000/50000 [==============================] - 23s 466us/step - loss: 0.6042 - acc: 0.7889 - val_loss: 0.7564 - val_acc: 0.7451\n",
            "Epoch 11/30\n",
            "50000/50000 [==============================] - 23s 468us/step - loss: 0.5751 - acc: 0.7970 - val_loss: 0.6743 - val_acc: 0.7717\n",
            "Epoch 12/30\n",
            "50000/50000 [==============================] - 23s 466us/step - loss: 0.5554 - acc: 0.8050 - val_loss: 0.6509 - val_acc: 0.7781\n",
            "Epoch 13/30\n",
            "50000/50000 [==============================] - 23s 466us/step - loss: 0.5234 - acc: 0.8140 - val_loss: 0.6657 - val_acc: 0.7712\n",
            "Epoch 14/30\n",
            "50000/50000 [==============================] - 23s 466us/step - loss: 0.5053 - acc: 0.8208 - val_loss: 0.6790 - val_acc: 0.7749\n",
            "Epoch 15/30\n",
            "50000/50000 [==============================] - 23s 465us/step - loss: 0.4777 - acc: 0.8302 - val_loss: 0.6465 - val_acc: 0.7870\n",
            "Epoch 16/30\n",
            "50000/50000 [==============================] - 23s 466us/step - loss: 0.4638 - acc: 0.8364 - val_loss: 0.6991 - val_acc: 0.7751\n",
            "Epoch 17/30\n",
            "50000/50000 [==============================] - 23s 467us/step - loss: 0.4454 - acc: 0.8421 - val_loss: 0.6252 - val_acc: 0.7950\n",
            "Epoch 18/30\n",
            "50000/50000 [==============================] - 23s 467us/step - loss: 0.4259 - acc: 0.8491 - val_loss: 0.6934 - val_acc: 0.7798\n",
            "Epoch 19/30\n",
            "50000/50000 [==============================] - 23s 468us/step - loss: 0.4205 - acc: 0.8529 - val_loss: 0.6531 - val_acc: 0.7902\n",
            "Epoch 20/30\n",
            "50000/50000 [==============================] - 23s 467us/step - loss: 0.4058 - acc: 0.8564 - val_loss: 0.6567 - val_acc: 0.7935\n",
            "Epoch 21/30\n",
            "50000/50000 [==============================] - 23s 465us/step - loss: 0.3905 - acc: 0.8624 - val_loss: 0.6300 - val_acc: 0.7979\n",
            "Epoch 22/30\n",
            "50000/50000 [==============================] - 23s 467us/step - loss: 0.3757 - acc: 0.8682 - val_loss: 0.7336 - val_acc: 0.7821\n",
            "Epoch 23/30\n",
            "50000/50000 [==============================] - 23s 466us/step - loss: 0.3634 - acc: 0.8713 - val_loss: 0.7017 - val_acc: 0.7819\n",
            "Epoch 24/30\n",
            "50000/50000 [==============================] - 23s 467us/step - loss: 0.3505 - acc: 0.8748 - val_loss: 0.6479 - val_acc: 0.7941\n",
            "Epoch 25/30\n",
            "50000/50000 [==============================] - 23s 466us/step - loss: 0.3424 - acc: 0.8797 - val_loss: 0.7041 - val_acc: 0.7818\n",
            "Epoch 26/30\n",
            "50000/50000 [==============================] - 23s 468us/step - loss: 0.3324 - acc: 0.8826 - val_loss: 0.6813 - val_acc: 0.7957\n",
            "Epoch 27/30\n",
            "50000/50000 [==============================] - 23s 466us/step - loss: 0.3272 - acc: 0.8841 - val_loss: 0.7300 - val_acc: 0.7831\n",
            "Epoch 28/30\n",
            "50000/50000 [==============================] - 23s 466us/step - loss: 0.3122 - acc: 0.8906 - val_loss: 0.6872 - val_acc: 0.7929\n",
            "Epoch 29/30\n",
            "50000/50000 [==============================] - 23s 466us/step - loss: 0.3116 - acc: 0.8885 - val_loss: 0.6937 - val_acc: 0.7970\n",
            "Epoch 30/30\n",
            "50000/50000 [==============================] - 23s 467us/step - loss: 0.3020 - acc: 0.8945 - val_loss: 0.7042 - val_acc: 0.7899\n",
            "702.407999753952\n"
          ],
          "name": "stdout"
        }
      ]
    },
    {
      "metadata": {
        "id": "yIq7IjbjbTLP",
        "colab_type": "code",
        "colab": {
          "base_uri": "https://localhost:8080/",
          "height": 729
        },
        "outputId": "9c6ccff0-aec4-469c-8efc-a586ac63eca3"
      },
      "cell_type": "code",
      "source": [
        "#Plotting the training progress\n",
        "history_plot(history, 0)"
      ],
      "execution_count": 38,
      "outputs": [
        {
          "output_type": "display_data",
          "data": {
            "image/png": "[encoded data removed]",
            "text/plain": [
              "<matplotlib.figure.Figure at 0x7f20abe16588>"
            ]
          },
          "metadata": {
            "tags": []
          }
        }
      ]
    },
    {
      "metadata": {
        "id": "oXhbCIlmmDFu",
        "colab_type": "code",
        "colab": {}
      },
      "cell_type": "code",
      "source": [
        "histories.append(history)\n",
        "times.append(time_gpu)"
      ],
      "execution_count": 0,
      "outputs": []
    },
    {
      "metadata": {
        "id": "rmHfw66p4eVH",
        "colab_type": "code",
        "colab": {}
      },
      "cell_type": "code",
      "source": [
        " #Save neural network Structure\n",
        "model_structure = model.to_json()\n",
        "f = Path('model_structure_gpu.json')\n",
        "f.write_text(model_structure)\n",
        "\n",
        "#Save NN weights\n",
        "model.save_weights(\"model_weights_gpu.h5\")"
      ],
      "execution_count": 0,
      "outputs": []
    },
    {
      "metadata": {
        "id": "HRLsylEV9UwG",
        "colab_type": "code",
        "colab": {}
      },
      "cell_type": "code",
      "source": [
        "class_labels = [\n",
        "    \"Plane\",\n",
        "    \"Car\",\n",
        "    \"Bird\",\n",
        "    \"Cat\",\n",
        "    \"Deer\",\n",
        "    \"Dog\",\n",
        "    \"Frog\",\n",
        "    \"Horse\",\n",
        "    \"Boat\",\n",
        "    \"Truck\"\n",
        "]\n"
      ],
      "execution_count": 0,
      "outputs": []
    },
    {
      "metadata": {
        "id": "vzDJuQSFEwMI",
        "colab_type": "code",
        "colab": {}
      },
      "cell_type": "code",
      "source": [
        "from keras.models import model_from_json\n",
        "from keras.preprocessing import image"
      ],
      "execution_count": 0,
      "outputs": []
    },
    {
      "metadata": {
        "id": "bUByQqlrGwfV",
        "colab_type": "code",
        "colab": {}
      },
      "cell_type": "code",
      "source": [
        "img = image.load_img('mycat.jpg', target_size = (32, 32))"
      ],
      "execution_count": 0,
      "outputs": []
    },
    {
      "metadata": {
        "id": "M_ylvs0eIMXe",
        "colab_type": "code",
        "colab": {}
      },
      "cell_type": "code",
      "source": [
        "img_a = image.img_to_array(img)"
      ],
      "execution_count": 0,
      "outputs": []
    },
    {
      "metadata": {
        "id": "j4EgEZDKIYle",
        "colab_type": "code",
        "colab": {}
      },
      "cell_type": "code",
      "source": [
        "imgs = np.expand_dims(img_a, axis = 0)"
      ],
      "execution_count": 0,
      "outputs": []
    },
    {
      "metadata": {
        "id": "K2vQtVVGIkA3",
        "colab_type": "code",
        "colab": {
          "base_uri": "https://localhost:8080/",
          "height": 34
        },
        "outputId": "5fcccb78-25ac-464f-f212-6046c0e45490"
      },
      "cell_type": "code",
      "source": [
        "results = model.predict(imgs)\n",
        "result = results[0]\n",
        "class_idx = np.argmax(result)\n",
        "class_val = result[class_idx]\n",
        "class_label = class_labels[class_idx]\n",
        "print(\"This is image is a {} - Likelihood: {:2f}\".format(class_label, class_val))"
      ],
      "execution_count": 66,
      "outputs": [
        {
          "output_type": "stream",
          "text": [
            "This is image is a Cat - Likelihood: 1.000000\n"
          ],
          "name": "stdout"
        }
      ]
    },
    {
      "metadata": {
        "id": "VKeFSlRAJE5G",
        "colab_type": "code",
        "colab": {}
      },
      "cell_type": "code",
      "source": [
        ""
      ],
      "execution_count": 0,
      "outputs": []
    }
  ]
}