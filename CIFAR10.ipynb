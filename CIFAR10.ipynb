{
  "nbformat": 4,
  "nbformat_minor": 0,
  "metadata": {
    "colab": {
      "name": "CIFAR10.ipynb",
      "version": "0.3.2",
      "provenance": [],
      "collapsed_sections": [],
      "include_colab_link": true
    },
    "kernelspec": {
      "name": "python3",
      "display_name": "Python 3"
    },
    "accelerator": "GPU"
  },
  "cells": [
    {
      "cell_type": "markdown",
      "metadata": {
        "id": "view-in-github",
        "colab_type": "text"
      },
      "source": [
        "<a href=\"https://colab.research.google.com/github/shikhers16/CIFAR10/blob/master/CIFAR10.ipynb\" target=\"_parent\"><img src=\"https://colab.research.google.com/assets/colab-badge.svg\" alt=\"Open In Colab\"/></a>"
      ]
    },
    {
      "metadata": {
        "id": "DuvoJ798bRqG",
        "colab_type": "code",
        "colab": {}
      },
      "cell_type": "code",
      "source": [
        "import numpy as np\n",
        "import tensorflow as tf\n"
      ],
      "execution_count": 0,
      "outputs": []
    },
    {
      "metadata": {
        "id": "qU9z9KCKlw0F",
        "colab_type": "text"
      },
      "cell_type": "markdown",
      "source": [
        ""
      ]
    },
    {
      "metadata": {
        "id": "OuLflkLUkS7y",
        "colab_type": "code",
        "colab": {}
      },
      "cell_type": "code",
      "source": [
        "from tensorflow.python.keras.models import Sequential\n",
        "from tensorflow.python.keras.layers import Dense, MaxPooling2D, Conv2D, Flatten, Dropout\n",
        "from keras.datasets import cifar10"
      ],
      "execution_count": 0,
      "outputs": []
    },
    {
      "metadata": {
        "id": "ESi5mMaz0j8s",
        "colab_type": "code",
        "colab": {}
      },
      "cell_type": "code",
      "source": [
        "from keras.utils import to_categorical"
      ],
      "execution_count": 0,
      "outputs": []
    },
    {
      "metadata": {
        "id": "o3Ap9Xndawjg",
        "colab_type": "code",
        "colab": {}
      },
      "cell_type": "code",
      "source": [
        "import matplotlib.pylab as plt\n",
        "from matplotlib import cm\n",
        "%matplotlib inline\n",
        "\n",
        "# Plot the Neural network fitting history function Definition\n",
        "def history_plot(fit_history, n):\n",
        "    plt.figure(figsize=(18, 12))\n",
        "    \n",
        "    plt.subplot(211)\n",
        "    plt.plot(fit_history.history['loss'][n:], color='red', label = 'train')\n",
        "    plt.plot(fit_history.history['val_loss'][n:], color='#4876ff', label = 'valid')\n",
        "    plt.xlabel(\"Epochs\")\n",
        "    plt.ylabel(\"Loss\")\n",
        "    plt.legend()\n",
        "    plt.title('Loss Function');  \n",
        "    \n",
        "    plt.subplot(212)\n",
        "    plt.plot(fit_history.history['acc'][n:], color='red', label = 'train')\n",
        "    plt.plot(fit_history.history['val_acc'][n:], color='#4876ff', label = 'valid')\n",
        "    plt.xlabel(\"Epochs\")\n",
        "    plt.ylabel(\"Accuracy\")    \n",
        "    plt.legend()\n",
        "    plt.title('Accuracy');"
      ],
      "execution_count": 0,
      "outputs": []
    },
    {
      "metadata": {
        "id": "EvD_pitcl6wf",
        "colab_type": "code",
        "colab": {}
      },
      "cell_type": "code",
      "source": [
        "times = []\n",
        "histories = []"
      ],
      "execution_count": 0,
      "outputs": []
    },
    {
      "metadata": {
        "id": "rmfGfql4zfCg",
        "colab_type": "code",
        "colab": {
          "base_uri": "https://localhost:8080/",
          "height": 51
        },
        "outputId": "b6486e98-d061-4990-9d9e-2f45a99d7424"
      },
      "cell_type": "code",
      "source": [
        "#Loading Data\n",
        "(X_train, Y_train), (X_test, Y_test) = cifar10.load_data()"
      ],
      "execution_count": 6,
      "outputs": [
        {
          "output_type": "stream",
          "text": [
            "Downloading data from https://www.cs.toronto.edu/~kriz/cifar-10-python.tar.gz\n",
            "170500096/170498071 [==============================] - 100s 1us/step\n"
          ],
          "name": "stdout"
        }
      ]
    },
    {
      "metadata": {
        "id": "Y4eqkeTizypm",
        "colab_type": "code",
        "colab": {}
      },
      "cell_type": "code",
      "source": [
        "#Normalizing Data\n",
        "X_train = X_train.astype('float32')\n",
        "X_test = X_test.astype('float32')\n",
        "X_train = X_train/255\n",
        "X_test = X_test/255"
      ],
      "execution_count": 0,
      "outputs": []
    },
    {
      "metadata": {
        "id": "22AAyOOA0HNO",
        "colab_type": "code",
        "colab": {}
      },
      "cell_type": "code",
      "source": [
        "#Creating class matrices\n",
        "Y_train = to_categorical(Y_train, 10)\n",
        "Y_test = to_categorical(Y_test, 10)\n"
      ],
      "execution_count": 0,
      "outputs": []
    },
    {
      "metadata": {
        "id": "qkEmkw-c0Z1u",
        "colab_type": "code",
        "colab": {
          "base_uri": "https://localhost:8080/",
          "height": 578
        },
        "outputId": "f93cb1d3-1bbe-4454-c42b-fcae243c7dd1"
      },
      "cell_type": "code",
      "source": [
        "#creating model and adding layers\n",
        "model = Sequential()\n",
        "\n",
        "#Block 1\n",
        "model.add(Conv2D(32, (3, 3), input_shape = (32, 32, 3), padding = 'same', activation = 'relu'))\n",
        "model.add(Conv2D(64, (3, 3), activation = 'relu'))\n",
        "model.add(MaxPooling2D(pool_size = (2, 2)))\n",
        "model.add(Dropout(0.5))\n",
        "\n",
        "#Block 2\n",
        "model.add(Conv2D(128, (3, 3), padding = 'same', activation = 'relu'))\n",
        "model.add(Conv2D(256, (3, 3), activation = 'relu'))\n",
        "model.add(MaxPooling2D(pool_size = (2, 2)))\n",
        "model.add(Dropout(0.5))\n",
        "\n",
        "#Flatten\n",
        "model.add(Flatten())\n",
        "\n",
        "#Dense Layers\n",
        "model.add(Dense(512, activation = 'relu'))\n",
        "model.add(Dense(512, activation = 'relu'))\n",
        "model.add(Dropout(0.5))\n",
        "\n",
        "#Softmax Layer\n",
        "model.add(Dense(10, activation = 'softmax'))\n",
        "\n",
        "model.summary()"
      ],
      "execution_count": 40,
      "outputs": [
        {
          "output_type": "stream",
          "text": [
            "_________________________________________________________________\n",
            "Layer (type)                 Output Shape              Param #   \n",
            "=================================================================\n",
            "conv2d_23 (Conv2D)           (None, 32, 32, 32)        896       \n",
            "_________________________________________________________________\n",
            "conv2d_24 (Conv2D)           (None, 30, 30, 64)        18496     \n",
            "_________________________________________________________________\n",
            "max_pooling2d_10 (MaxPooling (None, 15, 15, 64)        0         \n",
            "_________________________________________________________________\n",
            "dropout_12 (Dropout)         (None, 15, 15, 64)        0         \n",
            "_________________________________________________________________\n",
            "conv2d_25 (Conv2D)           (None, 15, 15, 128)       73856     \n",
            "_________________________________________________________________\n",
            "conv2d_26 (Conv2D)           (None, 13, 13, 256)       295168    \n",
            "_________________________________________________________________\n",
            "max_pooling2d_11 (MaxPooling (None, 6, 6, 256)         0         \n",
            "_________________________________________________________________\n",
            "dropout_13 (Dropout)         (None, 6, 6, 256)         0         \n",
            "_________________________________________________________________\n",
            "flatten_5 (Flatten)          (None, 9216)              0         \n",
            "_________________________________________________________________\n",
            "dense_11 (Dense)             (None, 512)               4719104   \n",
            "_________________________________________________________________\n",
            "dense_12 (Dense)             (None, 512)               262656    \n",
            "_________________________________________________________________\n",
            "dropout_14 (Dropout)         (None, 512)               0         \n",
            "_________________________________________________________________\n",
            "dense_13 (Dense)             (None, 10)                5130      \n",
            "=================================================================\n",
            "Total params: 5,375,306\n",
            "Trainable params: 5,375,306\n",
            "Non-trainable params: 0\n",
            "_________________________________________________________________\n"
          ],
          "name": "stdout"
        }
      ]
    },
    {
      "metadata": {
        "id": "gxbcjz4b2GyH",
        "colab_type": "code",
        "colab": {}
      },
      "cell_type": "code",
      "source": [
        "#compile\n",
        "model.compile(optimizer = 'adam', loss = 'categorical_crossentropy', metrics = ['accuracy'])"
      ],
      "execution_count": 0,
      "outputs": []
    },
    {
      "metadata": {
        "id": "OYMRynk23-Yi",
        "colab_type": "code",
        "colab": {}
      },
      "cell_type": "code",
      "source": [
        "import time"
      ],
      "execution_count": 0,
      "outputs": []
    },
    {
      "metadata": {
        "id": "3bv9vUwW5ty5",
        "colab_type": "code",
        "colab": {}
      },
      "cell_type": "code",
      "source": [
        "from pathlib import Path"
      ],
      "execution_count": 0,
      "outputs": []
    },
    {
      "metadata": {
        "id": "Ot6frcp72kuu",
        "colab_type": "code",
        "colab": {
          "base_uri": "https://localhost:8080/",
          "height": 1071
        },
        "outputId": "f9bcd9f4-7bfe-4c2b-c328-ac9c062e0fd5"
      },
      "cell_type": "code",
      "source": [
        "#training\n",
        "t1_gpu = time.time()\n",
        "history = model.fit(X_train, Y_train, batch_size = 128, epochs = 30, validation_data = (X_test, Y_test), shuffle = True)\n",
        "t2_gpu = time.time()\n",
        "\n",
        "time_gpu = t2_gpu - t1_gpu\n",
        "print(time_gpu)\n",
        "\n",
        "\n"
      ],
      "execution_count": 42,
      "outputs": [
        {
          "output_type": "stream",
          "text": [
            "Train on 50000 samples, validate on 10000 samples\n",
            "Epoch 1/30\n",
            "50000/50000 [==============================] - 23s 457us/step - loss: 1.6502 - acc: 0.3909 - val_loss: 1.2756 - val_acc: 0.5398\n",
            "Epoch 2/30\n",
            "50000/50000 [==============================] - 22s 438us/step - loss: 1.1703 - acc: 0.5831 - val_loss: 0.9600 - val_acc: 0.6623\n",
            "Epoch 3/30\n",
            "50000/50000 [==============================] - 22s 441us/step - loss: 0.9680 - acc: 0.6601 - val_loss: 0.8646 - val_acc: 0.6944\n",
            "Epoch 4/30\n",
            "50000/50000 [==============================] - 22s 441us/step - loss: 0.8399 - acc: 0.7041 - val_loss: 0.7498 - val_acc: 0.7381\n",
            "Epoch 5/30\n",
            "50000/50000 [==============================] - 22s 439us/step - loss: 0.7486 - acc: 0.7398 - val_loss: 0.7120 - val_acc: 0.7544\n",
            "Epoch 6/30\n",
            "50000/50000 [==============================] - 22s 436us/step - loss: 0.6869 - acc: 0.7612 - val_loss: 0.6765 - val_acc: 0.7697\n",
            "Epoch 7/30\n",
            "50000/50000 [==============================] - 22s 437us/step - loss: 0.6284 - acc: 0.7795 - val_loss: 0.6387 - val_acc: 0.7809\n",
            "Epoch 8/30\n",
            "50000/50000 [==============================] - 22s 436us/step - loss: 0.5859 - acc: 0.7925 - val_loss: 0.6297 - val_acc: 0.7822\n",
            "Epoch 9/30\n",
            "50000/50000 [==============================] - 22s 437us/step - loss: 0.5387 - acc: 0.8117 - val_loss: 0.6216 - val_acc: 0.7865\n",
            "Epoch 10/30\n",
            "50000/50000 [==============================] - 22s 435us/step - loss: 0.4991 - acc: 0.8247 - val_loss: 0.6237 - val_acc: 0.7862\n",
            "Epoch 11/30\n",
            "50000/50000 [==============================] - 22s 437us/step - loss: 0.4697 - acc: 0.8343 - val_loss: 0.6322 - val_acc: 0.7932\n",
            "Epoch 12/30\n",
            "50000/50000 [==============================] - 22s 437us/step - loss: 0.4465 - acc: 0.8426 - val_loss: 0.6181 - val_acc: 0.7930\n",
            "Epoch 13/30\n",
            "50000/50000 [==============================] - 22s 437us/step - loss: 0.4168 - acc: 0.8523 - val_loss: 0.6069 - val_acc: 0.8011\n",
            "Epoch 14/30\n",
            "50000/50000 [==============================] - 22s 436us/step - loss: 0.4004 - acc: 0.8580 - val_loss: 0.6467 - val_acc: 0.7934\n",
            "Epoch 15/30\n",
            "50000/50000 [==============================] - 22s 436us/step - loss: 0.3793 - acc: 0.8649 - val_loss: 0.6036 - val_acc: 0.8085\n",
            "Epoch 16/30\n",
            "50000/50000 [==============================] - 22s 436us/step - loss: 0.3577 - acc: 0.8734 - val_loss: 0.6911 - val_acc: 0.7901\n",
            "Epoch 17/30\n",
            "50000/50000 [==============================] - 22s 437us/step - loss: 0.3377 - acc: 0.8794 - val_loss: 0.6423 - val_acc: 0.8050\n",
            "Epoch 18/30\n",
            "50000/50000 [==============================] - 22s 437us/step - loss: 0.3283 - acc: 0.8853 - val_loss: 0.6399 - val_acc: 0.8074\n",
            "Epoch 19/30\n",
            "50000/50000 [==============================] - 22s 436us/step - loss: 0.3066 - acc: 0.8914 - val_loss: 0.6523 - val_acc: 0.8070\n",
            "Epoch 20/30\n",
            "50000/50000 [==============================] - 22s 436us/step - loss: 0.2992 - acc: 0.8946 - val_loss: 0.6493 - val_acc: 0.8084\n",
            "Epoch 21/30\n",
            "50000/50000 [==============================] - 22s 436us/step - loss: 0.2878 - acc: 0.8974 - val_loss: 0.6775 - val_acc: 0.8000\n",
            "Epoch 22/30\n",
            "50000/50000 [==============================] - 22s 437us/step - loss: 0.2747 - acc: 0.9025 - val_loss: 0.6936 - val_acc: 0.8020\n",
            "Epoch 23/30\n",
            "50000/50000 [==============================] - 22s 437us/step - loss: 0.2673 - acc: 0.9045 - val_loss: 0.6772 - val_acc: 0.8074\n",
            "Epoch 24/30\n",
            "50000/50000 [==============================] - 22s 436us/step - loss: 0.2526 - acc: 0.9101 - val_loss: 0.6674 - val_acc: 0.8094\n",
            "Epoch 25/30\n",
            "50000/50000 [==============================] - 22s 436us/step - loss: 0.2436 - acc: 0.9134 - val_loss: 0.7077 - val_acc: 0.8128\n",
            "Epoch 26/30\n",
            "50000/50000 [==============================] - 22s 437us/step - loss: 0.2432 - acc: 0.9145 - val_loss: 0.7010 - val_acc: 0.8127\n",
            "Epoch 27/30\n",
            "50000/50000 [==============================] - 22s 437us/step - loss: 0.2376 - acc: 0.9162 - val_loss: 0.7288 - val_acc: 0.8102\n",
            "Epoch 28/30\n",
            "50000/50000 [==============================] - 22s 437us/step - loss: 0.2291 - acc: 0.9197 - val_loss: 0.7202 - val_acc: 0.8122\n",
            "Epoch 29/30\n",
            "50000/50000 [==============================] - 22s 437us/step - loss: 0.2285 - acc: 0.9201 - val_loss: 0.7455 - val_acc: 0.8059\n",
            "Epoch 30/30\n",
            "50000/50000 [==============================] - 22s 437us/step - loss: 0.2187 - acc: 0.9226 - val_loss: 0.7121 - val_acc: 0.8066\n",
            "657.630357503891\n"
          ],
          "name": "stdout"
        }
      ]
    },
    {
      "metadata": {
        "id": "yIq7IjbjbTLP",
        "colab_type": "code",
        "colab": {
          "base_uri": "https://localhost:8080/",
          "height": 729
        },
        "outputId": "a7f7a573-f475-4a4e-9096-4469ff7e2463"
      },
      "cell_type": "code",
      "source": [
        "#Plotting the training progress\n",
        "history_plot(history, 0)"
      ],
      "execution_count": 43,
      "outputs": [
        {
          "output_type": "display_data",
          "data": {
            "image/png": "[encoded data removed]",
            "text/plain": [
              "<matplotlib.figure.Figure at 0x7f20a641a240>"
            ]
          },
          "metadata": {
            "tags": []
          }
        }
      ]
    },
    {
      "metadata": {
        "id": "oXhbCIlmmDFu",
        "colab_type": "code",
        "colab": {}
      },
      "cell_type": "code",
      "source": [
        "histories.append(history)\n",
        "times.append(time_gpu)"
      ],
      "execution_count": 0,
      "outputs": []
    },
    {
      "metadata": {
        "id": "rmHfw66p4eVH",
        "colab_type": "code",
        "colab": {}
      },
      "cell_type": "code",
      "source": [
        " #Save neural network Structure\n",
        "model_structure = model.to_json()\n",
        "f = Path('model_structure_gpu.json')\n",
        "f.write_text(model_structure)\n",
        "\n",
        "#Save NN weights\n",
        "model.save_weights(\"model_weights_gpu.h5\")"
      ],
      "execution_count": 0,
      "outputs": []
    },
    {
      "metadata": {
        "id": "HRLsylEV9UwG",
        "colab_type": "code",
        "colab": {}
      },
      "cell_type": "code",
      "source": [
        "class_labels = [\n",
        "    \"Plane\",\n",
        "    \"Car\",\n",
        "    \"Bird\",\n",
        "    \"Cat\",\n",
        "    \"Deer\",\n",
        "    \"Dog\",\n",
        "    \"Frog\",\n",
        "    \"Horse\",\n",
        "    \"Boat\",\n",
        "    \"Truck\"\n",
        "]\n"
      ],
      "execution_count": 0,
      "outputs": []
    },
    {
      "metadata": {
        "id": "vzDJuQSFEwMI",
        "colab_type": "code",
        "colab": {}
      },
      "cell_type": "code",
      "source": [
        "from keras.models import model_from_json\n",
        "from keras.preprocessing import image"
      ],
      "execution_count": 0,
      "outputs": []
    },
    {
      "metadata": {
        "id": "bUByQqlrGwfV",
        "colab_type": "code",
        "colab": {}
      },
      "cell_type": "code",
      "source": [
        "img = image.load_img('mycat.jpg', target_size = (32, 32))"
      ],
      "execution_count": 0,
      "outputs": []
    },
    {
      "metadata": {
        "id": "M_ylvs0eIMXe",
        "colab_type": "code",
        "colab": {}
      },
      "cell_type": "code",
      "source": [
        "img_a = image.img_to_array(img)"
      ],
      "execution_count": 0,
      "outputs": []
    },
    {
      "metadata": {
        "id": "j4EgEZDKIYle",
        "colab_type": "code",
        "colab": {}
      },
      "cell_type": "code",
      "source": [
        "imgs = np.expand_dims(img_a, axis = 0)"
      ],
      "execution_count": 0,
      "outputs": []
    },
    {
      "metadata": {
        "id": "K2vQtVVGIkA3",
        "colab_type": "code",
        "colab": {
          "base_uri": "https://localhost:8080/",
          "height": 34
        },
        "outputId": "5fcccb78-25ac-464f-f212-6046c0e45490"
      },
      "cell_type": "code",
      "source": [
        "results = model.predict(imgs)\n",
        "result = results[0]\n",
        "class_idx = np.argmax(result)\n",
        "class_val = result[class_idx]\n",
        "class_label = class_labels[class_idx]\n",
        "print(\"This is image is a {} - Likelihood: {:2f}\".format(class_label, class_val))"
      ],
      "execution_count": 66,
      "outputs": [
        {
          "output_type": "stream",
          "text": [
            "This is image is a Cat - Likelihood: 1.000000\n"
          ],
          "name": "stdout"
        }
      ]
    },
    {
      "metadata": {
        "id": "VKeFSlRAJE5G",
        "colab_type": "code",
        "colab": {}
      },
      "cell_type": "code",
      "source": [
        ""
      ],
      "execution_count": 0,
      "outputs": []
    }
  ]
}