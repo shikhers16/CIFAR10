{
  "nbformat": 4,
  "nbformat_minor": 0,
  "metadata": {
    "colab": {
      "name": "CIFAR10.ipynb",
      "version": "0.3.2",
      "provenance": [],
      "collapsed_sections": [],
      "include_colab_link": true
    },
    "kernelspec": {
      "name": "python3",
      "display_name": "Python 3"
    },
    "accelerator": "GPU"
  },
  "cells": [
    {
      "cell_type": "markdown",
      "metadata": {
        "id": "view-in-github",
        "colab_type": "text"
      },
      "source": [
        "<a href=\"https://colab.research.google.com/github/shikhers16/CIFAR10/blob/master/CIFAR10.ipynb\" target=\"_parent\"><img src=\"https://colab.research.google.com/assets/colab-badge.svg\" alt=\"Open In Colab\"/></a>"
      ]
    },
    {
      "metadata": {
        "id": "DuvoJ798bRqG",
        "colab_type": "code",
        "colab": {}
      },
      "cell_type": "code",
      "source": [
        "import numpy as np\n",
        "import tensorflow as tf\n"
      ],
      "execution_count": 0,
      "outputs": []
    },
    {
      "metadata": {
        "id": "qU9z9KCKlw0F",
        "colab_type": "text"
      },
      "cell_type": "markdown",
      "source": [
        ""
      ]
    },
    {
      "metadata": {
        "id": "OuLflkLUkS7y",
        "colab_type": "code",
        "colab": {
          "base_uri": "https://localhost:8080/",
          "height": 34
        },
        "outputId": "a663cddf-793e-4205-cb07-ff3334e7487b"
      },
      "cell_type": "code",
      "source": [
        "from tensorflow.python.keras.models import Sequential\n",
        "from tensorflow.python.keras.layers import Dense, MaxPooling2D, Conv2D, Flatten, Dropout\n",
        "from keras.datasets import cifar10"
      ],
      "execution_count": 3,
      "outputs": [
        {
          "output_type": "stream",
          "text": [
            "Using TensorFlow backend.\n"
          ],
          "name": "stderr"
        }
      ]
    },
    {
      "metadata": {
        "id": "ESi5mMaz0j8s",
        "colab_type": "code",
        "colab": {}
      },
      "cell_type": "code",
      "source": [
        "from keras.utils import to_categorical"
      ],
      "execution_count": 0,
      "outputs": []
    },
    {
      "metadata": {
        "id": "o3Ap9Xndawjg",
        "colab_type": "code",
        "colab": {}
      },
      "cell_type": "code",
      "source": [
        "import matplotlib.pylab as plt\n",
        "from matplotlib import cm\n",
        "%matplotlib inline\n",
        "\n",
        "# Plot the Neural network fitting history function Definition\n",
        "def history_plot(fit_history, n):\n",
        "    plt.figure(figsize=(18, 12))\n",
        "    \n",
        "    plt.subplot(211)\n",
        "    plt.plot(fit_history.history['loss'][n:], color='red', label = 'train')\n",
        "    plt.plot(fit_history.history['val_loss'][n:], color='#4876ff', label = 'valid')\n",
        "    plt.xlabel(\"Epochs\")\n",
        "    plt.ylabel(\"Loss\")\n",
        "    plt.legend()\n",
        "    plt.title('Loss Function');  \n",
        "    \n",
        "    plt.subplot(212)\n",
        "    plt.plot(fit_history.history['acc'][n:], color='red', label = 'train')\n",
        "    plt.plot(fit_history.history['val_acc'][n:], color='#4876ff', label = 'valid')\n",
        "    plt.xlabel(\"Epochs\")\n",
        "    plt.ylabel(\"Accuracy\")    \n",
        "    plt.legend()\n",
        "    plt.title('Accuracy');"
      ],
      "execution_count": 0,
      "outputs": []
    },
    {
      "metadata": {
        "id": "EvD_pitcl6wf",
        "colab_type": "code",
        "colab": {}
      },
      "cell_type": "code",
      "source": [
        "times = []\n",
        "histories = []"
      ],
      "execution_count": 0,
      "outputs": []
    },
    {
      "metadata": {
        "id": "rmfGfql4zfCg",
        "colab_type": "code",
        "colab": {
          "base_uri": "https://localhost:8080/",
          "height": 51
        },
        "outputId": "e63d6a64-688e-4b80-c463-ba6781827eb4"
      },
      "cell_type": "code",
      "source": [
        "#Loading Data\n",
        "(X_train, Y_train), (X_test, Y_test) = cifar10.load_data()"
      ],
      "execution_count": 7,
      "outputs": [
        {
          "output_type": "stream",
          "text": [
            "Downloading data from https://www.cs.toronto.edu/~kriz/cifar-10-python.tar.gz\n",
            "170500096/170498071 [==============================] - 84s 0us/step\n"
          ],
          "name": "stdout"
        }
      ]
    },
    {
      "metadata": {
        "id": "Y4eqkeTizypm",
        "colab_type": "code",
        "colab": {}
      },
      "cell_type": "code",
      "source": [
        "#Normalizing Data\n",
        "X_train = X_train.astype('float32')\n",
        "X_test = X_test.astype('float32')\n",
        "X_train = X_train/255\n",
        "X_test = X_test/255"
      ],
      "execution_count": 0,
      "outputs": []
    },
    {
      "metadata": {
        "id": "22AAyOOA0HNO",
        "colab_type": "code",
        "colab": {}
      },
      "cell_type": "code",
      "source": [
        "#Creating class matrices\n",
        "Y_train = to_categorical(Y_train, 10)\n",
        "Y_test = to_categorical(Y_test, 10)\n"
      ],
      "execution_count": 0,
      "outputs": []
    },
    {
      "metadata": {
        "id": "qkEmkw-c0Z1u",
        "colab_type": "code",
        "colab": {
          "base_uri": "https://localhost:8080/",
          "height": 612
        },
        "outputId": "f8f63051-aa5a-4814-b53a-30459f0a36aa"
      },
      "cell_type": "code",
      "source": [
        "#creating model and adding layers\n",
        "model = Sequential()\n",
        "\n",
        "#Block 1\n",
        "model.add(Conv2D(32, (3, 3), input_shape = (32, 32, 3), padding = 'same', activation = 'relu'))\n",
        "model.add(Conv2D(64, (3, 3), padding = 'same', activation = 'relu'))\n",
        "model.add(MaxPooling2D(pool_size = (2, 2)))\n",
        "model.add(Dropout(0.5))\n",
        "\n",
        "#Block 2\n",
        "model.add(Conv2D(128, (3, 3), activation = 'relu'))\n",
        "model.add(Conv2D(256, (3, 3), activation = 'relu'))\n",
        "model.add(Conv2D(512, (3, 3), activation = 'relu'))\n",
        "model.add(MaxPooling2D(pool_size = (2, 2)))\n",
        "model.add(Dropout(0.5))\n",
        "\n",
        "#Flatten\n",
        "model.add(Flatten())\n",
        "\n",
        "#Dense Layers\n",
        "model.add(Dense(512, activation = 'relu'))\n",
        "model.add(Dense(512, activation = 'relu'))\n",
        "model.add(Dropout(0.5))\n",
        "\n",
        "#Softmax Layer\n",
        "model.add(Dense(10, activation = 'softmax'))\n",
        "\n",
        "model.summary()"
      ],
      "execution_count": 31,
      "outputs": [
        {
          "output_type": "stream",
          "text": [
            "_________________________________________________________________\n",
            "Layer (type)                 Output Shape              Param #   \n",
            "=================================================================\n",
            "conv2d_10 (Conv2D)           (None, 32, 32, 32)        896       \n",
            "_________________________________________________________________\n",
            "conv2d_11 (Conv2D)           (None, 32, 32, 64)        18496     \n",
            "_________________________________________________________________\n",
            "max_pooling2d_4 (MaxPooling2 (None, 16, 16, 64)        0         \n",
            "_________________________________________________________________\n",
            "dropout_6 (Dropout)          (None, 16, 16, 64)        0         \n",
            "_________________________________________________________________\n",
            "conv2d_12 (Conv2D)           (None, 14, 14, 128)       73856     \n",
            "_________________________________________________________________\n",
            "conv2d_13 (Conv2D)           (None, 12, 12, 256)       295168    \n",
            "_________________________________________________________________\n",
            "conv2d_14 (Conv2D)           (None, 10, 10, 512)       1180160   \n",
            "_________________________________________________________________\n",
            "max_pooling2d_5 (MaxPooling2 (None, 5, 5, 512)         0         \n",
            "_________________________________________________________________\n",
            "dropout_7 (Dropout)          (None, 5, 5, 512)         0         \n",
            "_________________________________________________________________\n",
            "flatten_2 (Flatten)          (None, 12800)             0         \n",
            "_________________________________________________________________\n",
            "dense_6 (Dense)              (None, 512)               6554112   \n",
            "_________________________________________________________________\n",
            "dense_7 (Dense)              (None, 512)               262656    \n",
            "_________________________________________________________________\n",
            "dropout_8 (Dropout)          (None, 512)               0         \n",
            "_________________________________________________________________\n",
            "dense_8 (Dense)              (None, 10)                5130      \n",
            "=================================================================\n",
            "Total params: 8,390,474\n",
            "Trainable params: 8,390,474\n",
            "Non-trainable params: 0\n",
            "_________________________________________________________________\n"
          ],
          "name": "stdout"
        }
      ]
    },
    {
      "metadata": {
        "id": "gxbcjz4b2GyH",
        "colab_type": "code",
        "colab": {}
      },
      "cell_type": "code",
      "source": [
        "#compile\n",
        "model.compile(optimizer = 'adam', loss = 'categorical_crossentropy', metrics = ['accuracy'])"
      ],
      "execution_count": 0,
      "outputs": []
    },
    {
      "metadata": {
        "id": "OYMRynk23-Yi",
        "colab_type": "code",
        "colab": {}
      },
      "cell_type": "code",
      "source": [
        "import time"
      ],
      "execution_count": 0,
      "outputs": []
    },
    {
      "metadata": {
        "id": "3bv9vUwW5ty5",
        "colab_type": "code",
        "colab": {}
      },
      "cell_type": "code",
      "source": [
        "from pathlib import Path"
      ],
      "execution_count": 0,
      "outputs": []
    },
    {
      "metadata": {
        "id": "iJINnukTgeEc",
        "colab_type": "code",
        "colab": {}
      },
      "cell_type": "code",
      "source": [
        ""
      ],
      "execution_count": 0,
      "outputs": []
    },
    {
      "metadata": {
        "id": "Ot6frcp72kuu",
        "colab_type": "code",
        "colab": {
          "base_uri": "https://localhost:8080/",
          "height": 411
        },
        "outputId": "0e5a6ee9-3fcb-4720-d2ee-1f12302e7f51"
      },
      "cell_type": "code",
      "source": [
        "#training 1\n",
        "t1_gpu = time.time()\n",
        "history = model.fit(X_train, Y_train, batch_size = 128, epochs = 10, validation_data = (X_test, Y_test), shuffle = True)\n",
        "t2_gpu = time.time()\n",
        "\n",
        "time_gpu = t2_gpu - t1_gpu\n",
        "print(time_gpu)\n",
        "\n",
        "\n"
      ],
      "execution_count": 38,
      "outputs": [
        {
          "output_type": "stream",
          "text": [
            "Train on 50000 samples, validate on 10000 samples\n",
            "Epoch 1/10\n",
            "50000/50000 [==============================] - 33s 660us/step - loss: 1.7384 - acc: 0.3491 - val_loss: 1.3411 - val_acc: 0.5119\n",
            "Epoch 2/10\n",
            "50000/50000 [==============================] - 32s 639us/step - loss: 1.2603 - acc: 0.5445 - val_loss: 1.0395 - val_acc: 0.6320\n",
            "Epoch 3/10\n",
            "50000/50000 [==============================] - 32s 642us/step - loss: 1.0276 - acc: 0.6358 - val_loss: 0.9112 - val_acc: 0.6833\n",
            "Epoch 4/10\n",
            "50000/50000 [==============================] - 32s 649us/step - loss: 0.8879 - acc: 0.6881 - val_loss: 0.7760 - val_acc: 0.7275\n",
            "Epoch 5/10\n",
            "50000/50000 [==============================] - 32s 644us/step - loss: 0.7988 - acc: 0.7218 - val_loss: 0.7907 - val_acc: 0.7219\n",
            "Epoch 6/10\n",
            "50000/50000 [==============================] - 32s 639us/step - loss: 0.7204 - acc: 0.7473 - val_loss: 0.7184 - val_acc: 0.7550\n",
            "Epoch 7/10\n",
            "50000/50000 [==============================] - 32s 641us/step - loss: 0.6705 - acc: 0.7654 - val_loss: 0.6446 - val_acc: 0.7803\n",
            "Epoch 8/10\n",
            "50000/50000 [==============================] - 32s 639us/step - loss: 0.6200 - acc: 0.7840 - val_loss: 0.6751 - val_acc: 0.7720\n",
            "Epoch 9/10\n",
            "50000/50000 [==============================] - 32s 637us/step - loss: 0.5710 - acc: 0.8012 - val_loss: 0.6216 - val_acc: 0.7886\n",
            "Epoch 10/10\n",
            "50000/50000 [==============================] - 32s 640us/step - loss: 0.5339 - acc: 0.8127 - val_loss: 0.6176 - val_acc: 0.7950\n",
            "322.5953092575073\n"
          ],
          "name": "stdout"
        }
      ]
    },
    {
      "metadata": {
        "id": "f4I8SO3PsNEc",
        "colab_type": "text"
      },
      "cell_type": "markdown",
      "source": [
        ""
      ]
    },
    {
      "metadata": {
        "id": "AIB04Ld_sMzG",
        "colab_type": "text"
      },
      "cell_type": "markdown",
      "source": [
        ""
      ]
    },
    {
      "metadata": {
        "id": "yIq7IjbjbTLP",
        "colab_type": "code",
        "colab": {
          "base_uri": "https://localhost:8080/",
          "height": 749
        },
        "outputId": "abdf1b87-dd78-458f-a1ef-baac83a534b1"
      },
      "cell_type": "code",
      "source": [
        "#Plotting the training progress\n",
        "history_plot(history, 0)"
      ],
      "execution_count": 45,
      "outputs": [
        {
          "output_type": "display_data",
          "data": {
            "image/png": "[encoded data removed]",
            "text/plain": [
              "<matplotlib.figure.Figure at 0x7f898a026e10>"
            ]
          },
          "metadata": {
            "tags": []
          }
        }
      ]
    },
    {
      "metadata": {
        "id": "oXhbCIlmmDFu",
        "colab_type": "code",
        "colab": {}
      },
      "cell_type": "code",
      "source": [
        "histories.append(history)\n",
        "times.append(time_gpu)"
      ],
      "execution_count": 0,
      "outputs": []
    },
    {
      "metadata": {
        "id": "Te3KxBEVqU1g",
        "colab_type": "code",
        "colab": {}
      },
      "cell_type": "code",
      "source": [
        "from tensorflow.python.keras import optimizers\n",
        "Adam = optimizers.Adam(lr = 0.001, beta_1=0.9, beta_2=0.999, decay = 1e-3)\n",
        "#compile\n",
        "model.compile(optimizer = Adam, loss = 'categorical_crossentropy', metrics = ['accuracy'])"
      ],
      "execution_count": 0,
      "outputs": []
    },
    {
      "metadata": {
        "id": "AhOsPqQVqknh",
        "colab_type": "code",
        "colab": {
          "base_uri": "https://localhost:8080/",
          "height": 411
        },
        "outputId": "14910f5b-d6a0-4e41-de12-8e32a9137059"
      },
      "cell_type": "code",
      "source": [
        "#training 2 with learning rate decay\n",
        "t1_gpu = time.time()\n",
        "history = model.fit(X_train, Y_train, batch_size = 128, epochs = 10, validation_data = (X_test, Y_test), shuffle = True)\n",
        "t2_gpu = time.time()\n",
        "\n",
        "time_gpu = t2_gpu - t1_gpu\n",
        "print(time_gpu)\n",
        "\n",
        "\n"
      ],
      "execution_count": 44,
      "outputs": [
        {
          "output_type": "stream",
          "text": [
            "Train on 50000 samples, validate on 10000 samples\n",
            "Epoch 1/10\n",
            "50000/50000 [==============================] - 32s 646us/step - loss: 0.4656 - acc: 0.8375 - val_loss: 0.6277 - val_acc: 0.7962\n",
            "Epoch 2/10\n",
            "50000/50000 [==============================] - 32s 642us/step - loss: 0.4049 - acc: 0.8562 - val_loss: 0.5836 - val_acc: 0.8160\n",
            "Epoch 3/10\n",
            "50000/50000 [==============================] - 32s 644us/step - loss: 0.3607 - acc: 0.8727 - val_loss: 0.5819 - val_acc: 0.8127\n",
            "Epoch 4/10\n",
            "50000/50000 [==============================] - 32s 639us/step - loss: 0.3317 - acc: 0.8829 - val_loss: 0.5835 - val_acc: 0.8185\n",
            "Epoch 5/10\n",
            "50000/50000 [==============================] - 32s 638us/step - loss: 0.3094 - acc: 0.8902 - val_loss: 0.6388 - val_acc: 0.8083\n",
            "Epoch 6/10\n",
            "50000/50000 [==============================] - 32s 641us/step - loss: 0.2841 - acc: 0.8993 - val_loss: 0.6038 - val_acc: 0.8207\n",
            "Epoch 7/10\n",
            "50000/50000 [==============================] - 32s 637us/step - loss: 0.2584 - acc: 0.9065 - val_loss: 0.6244 - val_acc: 0.8197\n",
            "Epoch 8/10\n",
            "50000/50000 [==============================] - 32s 640us/step - loss: 0.2427 - acc: 0.9123 - val_loss: 0.6067 - val_acc: 0.8246\n",
            "Epoch 9/10\n",
            "50000/50000 [==============================] - 32s 638us/step - loss: 0.2331 - acc: 0.9158 - val_loss: 0.6235 - val_acc: 0.8254\n",
            "Epoch 10/10\n",
            "50000/50000 [==============================] - 32s 637us/step - loss: 0.2187 - acc: 0.9222 - val_loss: 0.6164 - val_acc: 0.8301\n",
            "320.1208429336548\n"
          ],
          "name": "stdout"
        }
      ]
    },
    {
      "metadata": {
        "id": "NB8GXXC_vUXy",
        "colab_type": "code",
        "colab": {}
      },
      "cell_type": "code",
      "source": [
        "Adam = optimizers.Adam(lr = 0.001, beta_1=0.9, beta_2=0.999, decay = 1e-2)\n",
        "#compile\n",
        "model.compile(optimizer = Adam, loss = 'categorical_crossentropy', metrics = ['accuracy'])"
      ],
      "execution_count": 0,
      "outputs": []
    },
    {
      "metadata": {
        "id": "x9xcy7WIujmc",
        "colab_type": "code",
        "colab": {
          "base_uri": "https://localhost:8080/",
          "height": 411
        },
        "outputId": "b28f919c-dd01-4322-e101-bbf0cc77bb07"
      },
      "cell_type": "code",
      "source": [
        "#training 3 with learning more rate decay\n",
        "t1_gpu = time.time()\n",
        "history = model.fit(X_train, Y_train, batch_size = 128, epochs = 10, validation_data = (X_test, Y_test), shuffle = True)\n",
        "t2_gpu = time.time()\n",
        "\n",
        "time_gpu = t2_gpu - t1_gpu\n",
        "print(time_gpu)\n",
        "\n",
        "\n"
      ],
      "execution_count": 50,
      "outputs": [
        {
          "output_type": "stream",
          "text": [
            "Train on 50000 samples, validate on 10000 samples\n",
            "Epoch 1/10\n",
            "50000/50000 [==============================] - 34s 690us/step - loss: 0.2172 - acc: 0.9225 - val_loss: 0.6306 - val_acc: 0.8305\n",
            "Epoch 2/10\n",
            "50000/50000 [==============================] - 32s 639us/step - loss: 0.1670 - acc: 0.9400 - val_loss: 0.6628 - val_acc: 0.8319\n",
            "Epoch 3/10\n",
            "50000/50000 [==============================] - 32s 649us/step - loss: 0.1559 - acc: 0.9439 - val_loss: 0.6635 - val_acc: 0.8317\n",
            "Epoch 4/10\n",
            "50000/50000 [==============================] - 33s 653us/step - loss: 0.1462 - acc: 0.9474 - val_loss: 0.6764 - val_acc: 0.8321\n",
            "Epoch 5/10\n",
            "50000/50000 [==============================] - 32s 642us/step - loss: 0.1388 - acc: 0.9507 - val_loss: 0.6895 - val_acc: 0.8327\n",
            "Epoch 6/10\n",
            "50000/50000 [==============================] - 32s 640us/step - loss: 0.1403 - acc: 0.9498 - val_loss: 0.6792 - val_acc: 0.8337\n",
            "Epoch 7/10\n",
            "50000/50000 [==============================] - 33s 657us/step - loss: 0.1333 - acc: 0.9524 - val_loss: 0.6889 - val_acc: 0.8322\n",
            "Epoch 8/10\n",
            "50000/50000 [==============================] - 32s 648us/step - loss: 0.1281 - acc: 0.9536 - val_loss: 0.6940 - val_acc: 0.8342\n",
            "Epoch 9/10\n",
            "50000/50000 [==============================] - 32s 649us/step - loss: 0.1294 - acc: 0.9536 - val_loss: 0.6952 - val_acc: 0.8333\n",
            "Epoch 10/10\n",
            "50000/50000 [==============================] - 33s 656us/step - loss: 0.1238 - acc: 0.9556 - val_loss: 0.6934 - val_acc: 0.8330\n",
            "327.2885253429413\n"
          ],
          "name": "stdout"
        }
      ]
    },
    {
      "metadata": {
        "id": "rmHfw66p4eVH",
        "colab_type": "code",
        "colab": {}
      },
      "cell_type": "code",
      "source": [
        " #Save neural network Structure\n",
        "model_structure = model.to_json()\n",
        "f = Path('model_structure_gpu.json')\n",
        "f.write_text(model_structure)\n",
        "\n",
        "#Save NN weights\n",
        "model.save_weights(\"model_weights_gpu.h5\")"
      ],
      "execution_count": 0,
      "outputs": []
    },
    {
      "metadata": {
        "id": "HRLsylEV9UwG",
        "colab_type": "code",
        "colab": {}
      },
      "cell_type": "code",
      "source": [
        "class_labels = [\n",
        "    \"Plane\",\n",
        "    \"Car\",\n",
        "    \"Bird\",\n",
        "    \"Cat\",\n",
        "    \"Deer\",\n",
        "    \"Dog\",\n",
        "    \"Frog\",\n",
        "    \"Horse\",\n",
        "    \"Boat\",\n",
        "    \"Truck\"\n",
        "]\n"
      ],
      "execution_count": 0,
      "outputs": []
    },
    {
      "metadata": {
        "id": "vzDJuQSFEwMI",
        "colab_type": "code",
        "colab": {}
      },
      "cell_type": "code",
      "source": [
        "from keras.models import model_from_json\n",
        "from keras.preprocessing import image"
      ],
      "execution_count": 0,
      "outputs": []
    },
    {
      "metadata": {
        "id": "bUByQqlrGwfV",
        "colab_type": "code",
        "colab": {}
      },
      "cell_type": "code",
      "source": [
        "img = image.load_img('mycat.jpg', target_size = (32, 32))"
      ],
      "execution_count": 0,
      "outputs": []
    },
    {
      "metadata": {
        "id": "M_ylvs0eIMXe",
        "colab_type": "code",
        "colab": {}
      },
      "cell_type": "code",
      "source": [
        "img_a = image.img_to_array(img)"
      ],
      "execution_count": 0,
      "outputs": []
    },
    {
      "metadata": {
        "id": "j4EgEZDKIYle",
        "colab_type": "code",
        "colab": {}
      },
      "cell_type": "code",
      "source": [
        "imgs = np.expand_dims(img_a, axis = 0)"
      ],
      "execution_count": 0,
      "outputs": []
    },
    {
      "metadata": {
        "id": "K2vQtVVGIkA3",
        "colab_type": "code",
        "colab": {
          "base_uri": "https://localhost:8080/",
          "height": 34
        },
        "outputId": "fcaf0a3f-ae41-41a9-f417-ef22ec017fe1"
      },
      "cell_type": "code",
      "source": [
        "results = model.predict(imgs)\n",
        "result = results[0]\n",
        "class_idx = np.argmax(result)\n",
        "class_val = result[class_idx]\n",
        "class_label = class_labels[class_idx]\n",
        "print(\"This is image is a {} - Likelihood: {:2f}\".format(class_label, class_val))"
      ],
      "execution_count": 57,
      "outputs": [
        {
          "output_type": "stream",
          "text": [
            "This is image is a Deer - Likelihood: 1.000000\n"
          ],
          "name": "stdout"
        }
      ]
    },
    {
      "metadata": {
        "id": "VKeFSlRAJE5G",
        "colab_type": "code",
        "colab": {}
      },
      "cell_type": "code",
      "source": [
        ""
      ],
      "execution_count": 0,
      "outputs": []
    }
  ]
}